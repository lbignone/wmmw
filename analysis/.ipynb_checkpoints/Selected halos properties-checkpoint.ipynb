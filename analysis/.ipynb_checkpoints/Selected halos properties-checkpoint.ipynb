{
 "cells": [
  {
   "cell_type": "code",
   "execution_count": 9,
   "metadata": {
    "collapsed": true
   },
   "outputs": [],
   "source": [
    "import pandas as pd"
   ]
  },
  {
   "cell_type": "code",
   "execution_count": 26,
   "metadata": {
    "collapsed": true
   },
   "outputs": [],
   "source": [
    "import matplotlib.pyplot as plt"
   ]
  },
  {
   "cell_type": "code",
   "execution_count": 27,
   "metadata": {
    "collapsed": true
   },
   "outputs": [],
   "source": [
    "%matplotlib inline"
   ]
  },
  {
   "cell_type": "code",
   "execution_count": 209,
   "metadata": {
    "collapsed": false
   },
   "outputs": [],
   "source": [
    "run rockstar"
   ]
  },
  {
   "cell_type": "code",
   "execution_count": 188,
   "metadata": {
    "collapsed": true
   },
   "outputs": [],
   "source": [
    "run pygadget"
   ]
  },
  {
   "cell_type": "code",
   "execution_count": 189,
   "metadata": {
    "collapsed": false
   },
   "outputs": [
    {
     "data": {
      "text/plain": [
       "</media/Seagate Expansion Drive/lbignone/simulations/lgzoom/out512/snapshot_014.0 | gas: 0 halo: 15793246 disk: 0 buldge: 0 stars: 0 bndry: 0 >"
      ]
     },
     "execution_count": 189,
     "metadata": {},
     "output_type": "execute_result"
    }
   ],
   "source": [
    "snap_basedir = \"/media/Seagate Expansion Drive/lbignone/simulations/lgzoom/out512/\"\n",
    "snap_number = 14\n",
    "snap_fname = snap_basedir + \"snapshot_{:03d}\".format(snap_number)\n",
    "snap = Simulation(snap_fname, multiple_files=True)\n",
    "snap"
   ]
  },
  {
   "cell_type": "code",
   "execution_count": 190,
   "metadata": {
    "collapsed": true
   },
   "outputs": [],
   "source": [
    "rock = rockstar_load(snap_basedir, snap_number)"
   ]
  },
  {
   "cell_type": "code",
   "execution_count": 191,
   "metadata": {
    "collapsed": true
   },
   "outputs": [],
   "source": [
    "# halo list\n",
    "halo_ids = [1227, 2848, 32978, 33306, 50660, 60717,\n",
    "            70678, 117322, 136214, 157661, 158145,\n",
    "            158699, 171739, 171766, 172029, 172676,\n",
    "            182073, 184999, 225840, 228338, 233107]\n",
    "\n",
    "halos = rock.loc[halo_ids]"
   ]
  },
  {
   "cell_type": "code",
   "execution_count": 24,
   "metadata": {
    "collapsed": false
   },
   "outputs": [],
   "source": [
    "halos.to_csv(\"halos_properties.txt\", sep=\" \")"
   ]
  },
  {
   "cell_type": "code",
   "execution_count": 25,
   "metadata": {
    "collapsed": true
   },
   "outputs": [],
   "source": [
    "pos = snap.read_block(\"pos\", \"halo\")"
   ]
  },
  {
   "cell_type": "code",
   "execution_count": 90,
   "metadata": {
    "collapsed": false
   },
   "outputs": [],
   "source": [
    "fname = \"/media/Seagate Expansion Drive/lbignone/simulations/lgzoom/out512/halos/14/halos_0.22.bin\"\n",
    "h = rockstar_load_header(fname)"
   ]
  },
  {
   "cell_type": "code",
   "execution_count": 210,
   "metadata": {
    "collapsed": false
   },
   "outputs": [],
   "source": [
    "r = rockstar_binary(fname)"
   ]
  },
  {
   "cell_type": "code",
   "execution_count": 211,
   "metadata": {
    "collapsed": false
   },
   "outputs": [
    {
     "data": {
      "text/plain": [
       "{'Ol': 0.6825000047683716,\n",
       " 'Om': 0.3174999952316284,\n",
       " 'bounds': array([ 17.16807175,  38.70070648,  28.56672096,  50.        ,\n",
       "         50.        ,  40.97462845]),\n",
       " 'box_size': 50.0,\n",
       " 'chunk': 22,\n",
       " 'format_revision': 1,\n",
       " 'h0': 0.6711000204086304,\n",
       " 'magic': 18077126535843729616L,\n",
       " 'num_halos': 11471,\n",
       " 'num_particles': 3046357,\n",
       " 'particle_mass': 82061176.0,\n",
       " 'particle_type': 1,\n",
       " 'rockstar_version': '0.99.9-RC3\\x00\\x00',\n",
       " 'scale': 1.0,\n",
       " 'snap': 0}"
      ]
     },
     "execution_count": 211,
     "metadata": {},
     "output_type": "execute_result"
    }
   ],
   "source": [
    "r.header"
   ]
  },
  {
   "cell_type": "code",
   "execution_count": 219,
   "metadata": {
    "collapsed": false
   },
   "outputs": [
    {
     "data": {
      "text/plain": [
       "{'A': array([-5.10685539,  6.63502836,  7.73921061]),\n",
       " 'A2': array([ 0.,  0.,  0.]),\n",
       " 'J': array([ 3263809.5, -2599713. ,  6797445.5]),\n",
       " 'Voff': array([ 6.17141104]),\n",
       " 'Xoff': array([ 5.69740057]),\n",
       " 'alt_m': array([  4.92367040e+08,   1.64122352e+08,   0.00000000e+00,\n",
       "          0.00000000e+00]),\n",
       " 'b_to_a': array([ 0.29756495]),\n",
       " 'b_to_a2': array([ 0.]),\n",
       " 'bulkvel': array([  67.85238647, -138.16459656,   26.28975296]),\n",
       " 'bullock_spin': array([ 0.12233417]),\n",
       " 'c_to_a': array([ 0.0556687]),\n",
       " 'c_to_a2': array([ 0.]),\n",
       " 'child_r': array([ 0.03285308]),\n",
       " 'corevel': array([  67.85238647, -138.16459656,   26.28975296]),\n",
       " 'desc': array([0]),\n",
       " 'energy': array([  5.29086464e+09]),\n",
       " 'flags': array([9]),\n",
       " 'id': array([227094]),\n",
       " 'kin_to_pot': array([ 1.65805113]),\n",
       " 'klypin_rs': array([ 3.82064509]),\n",
       " 'm': array([  3.28244704e+08]),\n",
       " 'm_pe_b': array([  5.18720896e+08]),\n",
       " 'm_pe_d': array([  3.28244704e+08]),\n",
       " 'mgrav': array([  3.28244704e+08]),\n",
       " 'min_bulk_err': array([ 0.]),\n",
       " 'min_pos_err': array([  5.89092597e-05]),\n",
       " 'min_vel_err': array([ 0.]),\n",
       " 'n_core': array([0]),\n",
       " 'num_child_particles': array([52]),\n",
       " 'num_p': array([52]),\n",
       " 'p_start': array([0]),\n",
       " 'pos': array([  35.46390915,   39.89048386,   37.01068878,   67.85238647,\n",
       "        -138.16459656,   26.28975296]),\n",
       " 'r': array([ 13.9720993]),\n",
       " 'rs': array([ 3.82064509]),\n",
       " 'rvmax': array([ 13.30765247]),\n",
       " 'spin': array([ 0.069098]),\n",
       " 'vmax': array([ 10.30011082]),\n",
       " 'vmax_r': array([ 0.01509346]),\n",
       " 'vrms': array([ 8.93660736])}"
      ]
     },
     "execution_count": 219,
     "metadata": {},
     "output_type": "execute_result"
    }
   ],
   "source": [
    "r.halos[0]"
   ]
  },
  {
   "cell_type": "code",
   "execution_count": 224,
   "metadata": {
    "collapsed": false
   },
   "outputs": [],
   "source": [
    "fmt = \"q6f3f3fffffffffff3fff4fffff3fff3fffffqqqqqqfff\"\n",
    "f = open(fname)"
   ]
  },
  {
   "cell_type": "code",
   "execution_count": 238,
   "metadata": {
    "collapsed": true
   },
   "outputs": [],
   "source": [
    "f = open(fname)\n",
    "h = f.read(256)"
   ]
  },
  {
   "cell_type": "code",
   "execution_count": 241,
   "metadata": {
    "collapsed": false
   },
   "outputs": [
    {
     "data": {
      "text/plain": [
       "(975365598085120,\n",
       " 0.0,\n",
       " 36.22406005859375,\n",
       " 39.74790573120117,\n",
       " 36.61165237426758,\n",
       " -617.9545288085938,\n",
       " -63.355403900146484,\n",
       " 17.746797561645508,\n",
       " -617.9545288085938,\n",
       " -63.355403900146484,\n",
       " 17.746797561645508,\n",
       " -617.9545288085938,\n",
       " -63.355403900146484,\n",
       " 17.746797561645508,\n",
       " 8124056576.0,\n",
       " 38.39438247680664,\n",
       " 0.04798218235373497,\n",
       " 0.05279841646552086,\n",
       " 6811077632.0,\n",
       " 37.99738311767578,\n",
       " 12.46774959564209,\n",
       " 2.251206874847412,\n",
       " 2.251206874847412,\n",
       " 34.9791374206543,\n",
       " 41432852.0,\n",
       " 93947920.0,\n",
       " -275759904.0,\n",
       " -3074128609280.0,\n",
       " 0.03132988512516022,\n",
       " 6811077632.0,\n",
       " 6236649472.0,\n",
       " 5580160000.0,\n",
       " 2954202368.0,\n",
       " 1.2455254793167114,\n",
       " 1.623378038406372,\n",
       " 0.7526081800460815,\n",
       " 0.7285149693489075,\n",
       " 1.5540755987167358,\n",
       " 4.6613569259643555,\n",
       " 0.0815080851316452,\n",
       " 0.7454659938812256,\n",
       " 0.5941433310508728,\n",
       " 1.6099097728729248,\n",
       " 4.204065322875977,\n",
       " -0.37556055188179016,\n",
       " 0.02880438044667244,\n",
       " 0.5670855045318604,\n",
       " 11092200448.0,\n",
       " 695784701952,\n",
       " 695784701952,\n",
       " 223338299392,\n",
       " 0,\n",
       " 38654705664,\n",
       " 283467841536,\n",
       " 0.0,\n",
       " 1.770643393683713e-06,\n",
       " 17.554767608642578)"
      ]
     },
     "execution_count": 241,
     "metadata": {},
     "output_type": "execute_result"
    }
   ],
   "source": [
    "d = f.read(calcsize(fmt))\n",
    "v = unpack(fmt, d)\n",
    "v"
   ]
  },
  {
   "cell_type": "code",
   "execution_count": 240,
   "metadata": {
    "collapsed": false
   },
   "outputs": [
    {
     "data": {
      "text/plain": [
       "{'A': array([-5.10685539,  6.63502836,  7.73921061]),\n",
       " 'A2': array([ 0.,  0.,  0.]),\n",
       " 'J': array([ 3263809.5, -2599713. ,  6797445.5]),\n",
       " 'Voff': array([ 6.17141104]),\n",
       " 'Xoff': array([ 5.69740057]),\n",
       " 'alt_m': array([  4.92367040e+08,   1.64122352e+08,   0.00000000e+00,\n",
       "          0.00000000e+00]),\n",
       " 'b_to_a': array([ 0.29756495]),\n",
       " 'b_to_a2': array([ 0.]),\n",
       " 'bulkvel': array([  67.85238647, -138.16459656,   26.28975296]),\n",
       " 'bullock_spin': array([ 0.12233417]),\n",
       " 'c_to_a': array([ 0.0556687]),\n",
       " 'c_to_a2': array([ 0.]),\n",
       " 'child_r': array([ 0.03285308]),\n",
       " 'corevel': array([  67.85238647, -138.16459656,   26.28975296]),\n",
       " 'desc': array([0]),\n",
       " 'energy': array([  5.29086464e+09]),\n",
       " 'flags': array([9]),\n",
       " 'id': array([227094]),\n",
       " 'kin_to_pot': array([ 1.65805113]),\n",
       " 'klypin_rs': array([ 3.82064509]),\n",
       " 'm': array([  3.28244704e+08]),\n",
       " 'm_pe_b': array([  5.18720896e+08]),\n",
       " 'm_pe_d': array([  3.28244704e+08]),\n",
       " 'mgrav': array([  3.28244704e+08]),\n",
       " 'min_bulk_err': array([ 0.]),\n",
       " 'min_pos_err': array([  5.89092597e-05]),\n",
       " 'min_vel_err': array([ 0.]),\n",
       " 'n_core': array([0]),\n",
       " 'num_child_particles': array([52]),\n",
       " 'num_p': array([52]),\n",
       " 'p_start': array([0]),\n",
       " 'pos': array([  35.46390915,   39.89048386,   37.01068878,   67.85238647,\n",
       "        -138.16459656,   26.28975296]),\n",
       " 'r': array([ 13.9720993]),\n",
       " 'rs': array([ 3.82064509]),\n",
       " 'rvmax': array([ 13.30765247]),\n",
       " 'spin': array([ 0.069098]),\n",
       " 'vmax': array([ 10.30011082]),\n",
       " 'vmax_r': array([ 0.01509346]),\n",
       " 'vrms': array([ 8.93660736])}"
      ]
     },
     "execution_count": 240,
     "metadata": {},
     "output_type": "execute_result"
    }
   ],
   "source": [
    "r.halos[0]"
   ]
  },
  {
   "cell_type": "code",
   "execution_count": null,
   "metadata": {
    "collapsed": true
   },
   "outputs": [],
   "source": []
  }
 ],
 "metadata": {
  "kernelspec": {
   "display_name": "Python 2",
   "language": "python",
   "name": "python2"
  },
  "language_info": {
   "codemirror_mode": {
    "name": "ipython",
    "version": 2
   },
   "file_extension": ".py",
   "mimetype": "text/x-python",
   "name": "python",
   "nbconvert_exporter": "python",
   "pygments_lexer": "ipython2",
   "version": "2.7.3"
  }
 },
 "nbformat": 4,
 "nbformat_minor": 0
}
