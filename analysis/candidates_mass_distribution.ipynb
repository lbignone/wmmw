{
 "metadata": {
  "name": "",
  "signature": "sha256:a897338c056cb2959efc68ad2bea42da971749e5242a2adc86dda29c4668c4c8"
 },
 "nbformat": 3,
 "nbformat_minor": 0,
 "worksheets": [
  {
   "cells": [
    {
     "cell_type": "markdown",
     "metadata": {},
     "source": [
      "# Generates a plot of the mass distribution of candidates for resimulation"
     ]
    },
    {
     "cell_type": "code",
     "collapsed": false,
     "input": [
      "import matplotlib.pyplot as plt"
     ],
     "language": "python",
     "metadata": {},
     "outputs": [],
     "prompt_number": 1
    },
    {
     "cell_type": "code",
     "collapsed": false,
     "input": [
      "import numpy as np"
     ],
     "language": "python",
     "metadata": {},
     "outputs": [],
     "prompt_number": 2
    },
    {
     "cell_type": "code",
     "collapsed": false,
     "input": [
      "%matplotlib inline"
     ],
     "language": "python",
     "metadata": {},
     "outputs": [],
     "prompt_number": 3
    },
    {
     "cell_type": "code",
     "collapsed": false,
     "input": [
      "run rockstar.py"
     ],
     "language": "python",
     "metadata": {},
     "outputs": [],
     "prompt_number": 4
    },
    {
     "cell_type": "code",
     "collapsed": false,
     "input": [
      "basedir = \"/home/lbignone/simulations/wmmw/out512\"\n",
      "snap_number = 14"
     ],
     "language": "python",
     "metadata": {},
     "outputs": [],
     "prompt_number": 5
    },
    {
     "cell_type": "code",
     "collapsed": false,
     "input": [
      "halos = rockstar_load(basedir, snap_number)"
     ],
     "language": "python",
     "metadata": {},
     "outputs": [],
     "prompt_number": 6
    },
    {
     "cell_type": "code",
     "collapsed": false,
     "input": [
      "candidates_ids = np.genfromtxt(\"candidates.txt\")"
     ],
     "language": "python",
     "metadata": {},
     "outputs": [],
     "prompt_number": 7
    },
    {
     "cell_type": "code",
     "collapsed": false,
     "input": [
      "halo_candidates = halos.loc[candidates_ids]\n",
      "halo_candidates = halo_candidates[(halo_candidates.Mvir >= 5e9) & (halo_candidates.Mvir <= 5e12)]"
     ],
     "language": "python",
     "metadata": {},
     "outputs": [],
     "prompt_number": 24
    },
    {
     "cell_type": "code",
     "collapsed": false,
     "input": [
      "logmmin = np.log10(5e9)\n",
      "logmmax = np.log10(5e12)\n",
      "dlogm = 0.5\n",
      "\n",
      "n = (logmmax - logmmin)/dlogm\n",
      "\n",
      "bins = np.logspace(logmmin, logmmax, n)\n",
      "\n",
      "halo_candidates.Mvir.hist(log=True, bins=bins)\n",
      "\n",
      "ax = plt.gca()\n",
      "ax.set_xscale(\"log\")\n",
      "ax.set_xlabel(r\"halo Mass [$M_\\odot h^{-1}$]\")\n",
      "ax.set_ylabel(r\"N\")\n",
      "\n",
      "plt.savefig(\"mass_distribution.pdf\")"
     ],
     "language": "python",
     "metadata": {},
     "outputs": [
      {
       "metadata": {},
       "output_type": "display_data",
       "png": "[encoded data removed]",
       "text": [
        "<matplotlib.figure.Figure at 0x7f275e3c2cc0>"
       ]
      }
     ],
     "prompt_number": 25
    },
    {
     "cell_type": "code",
     "collapsed": false,
     "input": [
      "logmmax"
     ],
     "language": "python",
     "metadata": {},
     "outputs": [
      {
       "metadata": {},
       "output_type": "pyout",
       "prompt_number": 22,
       "text": [
        "9.6989700043360187"
       ]
      }
     ],
     "prompt_number": 22
    },
    {
     "cell_type": "code",
     "collapsed": false,
     "input": [
      "h"
     ],
     "language": "python",
     "metadata": {},
     "outputs": [
      {
       "metadata": {},
       "output_type": "pyout",
       "prompt_number": 34,
       "text": [
        "ID              2.882000e+03\n",
        "DescID         -1.000000e+00\n",
        "Mvir            4.275000e+10\n",
        "Vmax            6.001000e+01\n",
        "Vrms            6.064000e+01\n",
        "Rvir            7.082500e+01\n",
        "Rs              6.158000e+00\n",
        "Np              5.030000e+02\n",
        "X               1.292998e+01\n",
        "Y               2.019041e+01\n",
        "Z               9.485300e+00\n",
        "VX              4.317000e+01\n",
        "VY             -3.208000e+01\n",
        "VZ              1.889000e+01\n",
        "JX             -7.050000e+09\n",
        "JY             -5.925000e+09\n",
        "JZ              1.827000e+09\n",
        "Spin            4.186000e-02\n",
        "rs_klypin       7.874910e+00\n",
        "Mvir_all        4.275400e+10\n",
        "M200b           4.497000e+10\n",
        "M200c           3.914300e+10\n",
        "M500c           3.003400e+10\n",
        "M2500c          1.132400e+10\n",
        "Xoff            3.287440e+00\n",
        "Voff            7.830000e+00\n",
        "spin_bullock    4.303000e-02\n",
        "b_to_a          7.047600e-01\n",
        "c_to_a          6.502300e-01\n",
        "A[x]            3.559940e+00\n",
        "A[y]           -4.790810e+00\n",
        "A[z]            4.974480e+00\n",
        "b_to_a(500c)    6.929000e-01\n",
        "PID            -1.000000e+00\n",
        "Name: 2882.0, dtype: float64"
       ]
      }
     ],
     "prompt_number": 34
    },
    {
     "cell_type": "code",
     "collapsed": false,
     "input": [],
     "language": "python",
     "metadata": {},
     "outputs": []
    }
   ],
   "metadata": {}
  }
 ]
}