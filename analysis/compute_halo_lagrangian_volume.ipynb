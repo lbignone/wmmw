{
 "cells": [
  {
   "cell_type": "code",
   "execution_count": 8,
   "metadata": {
    "collapsed": true
   },
   "outputs": [],
   "source": [
    "import gc"
   ]
  },
  {
   "cell_type": "code",
   "execution_count": 9,
   "metadata": {
    "collapsed": true
   },
   "outputs": [],
   "source": [
    "%matplotlib inline"
   ]
  },
  {
   "cell_type": "code",
   "execution_count": 10,
   "metadata": {
    "collapsed": true
   },
   "outputs": [],
   "source": [
    "import matplotlib.pyplot as plt"
   ]
  },
  {
   "cell_type": "code",
   "execution_count": 11,
   "metadata": {
    "collapsed": true
   },
   "outputs": [],
   "source": [
    "run pygadget"
   ]
  },
  {
   "cell_type": "code",
   "execution_count": 12,
   "metadata": {
    "collapsed": true
   },
   "outputs": [],
   "source": [
    "run pygadget_utils"
   ]
  },
  {
   "cell_type": "code",
   "execution_count": 13,
   "metadata": {
    "collapsed": true
   },
   "outputs": [],
   "source": [
    "run rockstar"
   ]
  },
  {
   "cell_type": "code",
   "execution_count": 14,
   "metadata": {
    "collapsed": false
   },
   "outputs": [
    {
     "name": "stdout",
     "output_type": "stream",
     "text": [
      "1.44033\n"
     ]
    }
   ],
   "source": [
    "# parameters\n",
    "\n",
    "# base halo\n",
    "#base_basedir = \"/run/media/lbignone/Seagate Expansion Drive/lbignone/simulations/lgzoom/out512/\"\n",
    "base_basedir = \"/media/Seagate Expansion Drive/lbignone/simulations/lgzoom/out512/\"\n",
    "base_snap_number = 14\n",
    "base_hid = 228540\n",
    "base_fname = base_basedir + \"snapshot_{:03d}\".format(base_snap_number)\n",
    "\n",
    "# ics\n",
    "#ics_fname = \"/run/media/lbignone/Seagate Expansion Drive/lbignone/simulations/lgzoom/ics_gadget_512base.dat\"\n",
    "ics_fname = \"/media/Seagate Expansion Drive/lbignone/simulations/lgzoom/ics_gadget_512base.dat\"\n",
    "\n",
    "# load base halo\n",
    "base_halos = rockstar_load(base_basedir, base_snap_number)\n",
    "base_halo = base_halos.loc[base_hid]\n",
    "\n",
    "# extracted box lenght\n",
    "R = 5 * base_halo.Rvir / 1000.0\n",
    "print(R)\n",
    "dx = {\"x\": R, \"y\":R, \"z\":R}\n",
    "\n",
    "# output file name\n",
    "fout = \"R{:d}_5RvirBox_Ellipsoid.dat\".format(base_hid)"
   ]
  },
  {
   "cell_type": "code",
   "execution_count": 15,
   "metadata": {
    "collapsed": false
   },
   "outputs": [
    {
     "data": {
      "text/plain": [
       "ID              2.285400e+05\n",
       "DescID         -1.000000e+00\n",
       "Mvir            2.877000e+12\n",
       "Vmax            2.356500e+02\n",
       "Vrms            2.376600e+02\n",
       "Rvir            2.880660e+02\n",
       "Rs              3.855400e+01\n",
       "Np              3.330100e+04\n",
       "x               3.564206e+01\n",
       "y               3.871817e+01\n",
       "z               2.977349e+01\n",
       "VX              1.677500e+02\n",
       "VY              6.110000e+01\n",
       "VZ              7.504000e+01\n",
       "JX             -1.425000e+13\n",
       "JY              1.681000e+12\n",
       "JZ              1.244000e+13\n",
       "Spin            7.847000e-02\n",
       "rs_klypin       3.813490e+01\n",
       "Mvir_all        2.880800e+12\n",
       "M200b           3.096100e+12\n",
       "M200c           2.487800e+12\n",
       "M500c           1.794600e+12\n",
       "M2500c          8.472800e+11\n",
       "Xoff            8.146040e+00\n",
       "Voff            8.370000e+00\n",
       "spin_bullock    7.820000e-02\n",
       "b_to_a          6.012700e-01\n",
       "c_to_a          5.511900e-01\n",
       "A[x]            6.578210e+00\n",
       "A[y]           -1.261118e+01\n",
       "A[z]            1.345270e+01\n",
       "b_to_a(500c)    5.270000e-01\n",
       "PID            -1.000000e+00\n",
       "Name: 228540.0, dtype: float64"
      ]
     },
     "execution_count": 15,
     "metadata": {},
     "output_type": "execute_result"
    }
   ],
   "source": [
    "base_halo"
   ]
  },
  {
   "cell_type": "code",
   "execution_count": 16,
   "metadata": {
    "collapsed": false
   },
   "outputs": [
    {
     "name": "stdout",
     "output_type": "stream",
     "text": [
      "file: /media/Seagate Expansion Drive/lbignone/simulations/lgzoom/out512/snapshot_014.0\n",
      "file number: 8\n",
      "endianess: <\n",
      "particle numbers: {'buldge': 0, 'gas': 0, 'bndry': 0, 'stars': 0, 'disk': 0, 'halo': 15793246}\n",
      "particle mass: {'buldge': 0.0, 'gas': 0.0, 'bndry': 0.0, 'stars': 0.0, 'disk': 0.0, 'halo': 0.008206117572030054}\n",
      "cosmic time: 1.0\n",
      "redshift: 2.22044604925e-16\n",
      "box size: 50000.0\n",
      "omega_matter: 0.3175\n",
      "omega_lambda: 0.6825\n",
      "h: 0.6711\n",
      "flags: {'endt': False, 'feedback': 0, 'pot': False, 'sfr': 0, 'accel': False, 'metals': 0, 'stellar_age': 0, 'cooling': 0, 'entr_ics': 0, 'tstp': False}\n",
      "box_size: 50.000000 Mpc h^-1\n"
     ]
    }
   ],
   "source": [
    "snap = Simulation(base_fname, multiple_files=True)\n",
    "box_size = snap.box_size / 1000.0 # Box size en Mpc h^-1\n",
    "print(snap)\n",
    "print(\"box_size: {:f} Mpc h^-1\".format(box_size))"
   ]
  },
  {
   "cell_type": "code",
   "execution_count": 17,
   "metadata": {
    "collapsed": false
   },
   "outputs": [
    {
     "name": "stdout",
     "output_type": "stream",
     "text": [
      "file: /media/Seagate Expansion Drive/lbignone/simulations/lgzoom/ics_gadget_512base.dat\n",
      "file number: 1\n",
      "endianess: <\n",
      "particle numbers: {'buldge': 0, 'gas': 0, 'bndry': 0, 'stars': 0, 'disk': 0, 'halo': 134217728}\n",
      "particle mass: {'buldge': 0.0, 'gas': 0.0, 'bndry': 0.0, 'stars': 0.0, 'disk': 0.0, 'halo': 0.008206117572030054}\n",
      "cosmic time: 0.016393442623\n",
      "redshift: 60.0\n",
      "box size: 50000.0\n",
      "omega_matter: 0.3175\n",
      "omega_lambda: 0.6825\n",
      "h: 0.6711\n",
      "flags: {'endt': False, 'feedback': 0, 'pot': False, 'sfr': 0, 'accel': False, 'metals': 0, 'stellar_age': 0, 'cooling': 0, 'entr_ics': 0, 'tstp': False}\n"
     ]
    }
   ],
   "source": [
    "# load ics\n",
    "snap0 = Simulation(ics_fname, multiple_files=False)\n",
    "print(snap0)"
   ]
  },
  {
   "cell_type": "code",
   "execution_count": 18,
   "metadata": {
    "collapsed": false
   },
   "outputs": [],
   "source": [
    "# read block pos\n",
    "pos = snap.read_block(\"pos\", \"halo\", iter_files=True)"
   ]
  },
  {
   "cell_type": "code",
   "execution_count": 19,
   "metadata": {
    "collapsed": false
   },
   "outputs": [
    {
     "data": {
      "text/plain": [
       "[34.201729999999998,\n",
       " 37.082390000000004,\n",
       " 37.277839999999998,\n",
       " 40.158500000000004,\n",
       " 28.333159999999999,\n",
       " 31.213819999999998]"
      ]
     },
     "execution_count": 19,
     "metadata": {},
     "output_type": "execute_result"
    }
   ],
   "source": [
    "# set region limits\n",
    "limits = []\n",
    "for key in [\"x\", \"y\", \"z\"]:\n",
    "    limits.append(base_halo[key] - dx[key])\n",
    "    limits.append(base_halo[key] + dx[key])\n",
    "    \n",
    "limits"
   ]
  },
  {
   "cell_type": "code",
   "execution_count": 20,
   "metadata": {
    "collapsed": false
   },
   "outputs": [
    {
     "data": {
      "text/plain": [
       "686"
      ]
     },
     "execution_count": 20,
     "metadata": {},
     "output_type": "execute_result"
    },
    {
     "data": {
      "image/png": "[encoded data removed]",
      "text/plain": [
       "<matplotlib.figure.Figure at 0x4647a90>"
      ]
     },
     "metadata": {},
     "output_type": "display_data"
    }
   ],
   "source": [
    "# get filtered region\n",
    "for i, p in enumerate(pos):\n",
    "    p = p/1000.0\n",
    "    if i == 0:\n",
    "        posf = filter_by_region(p, *limits)\n",
    "    else:\n",
    "        posf1 = filter_by_region(p, *limits)\n",
    "        posf = pd.concat([posf, posf1], axis=0)\n",
    "\n",
    "ids = posf.index\n",
    "# plot region\n",
    "plt.scatter(posf.x, posf.y, s=0.1, marker='.')\n",
    "\n",
    "plt.xlabel(\"x [Mpc/h]\")\n",
    "plt.ylabel(\"y [Mpc/h]\")\n",
    "plt.title(\"{:d}\".format(base_hid))\n",
    "\n",
    "plt.savefig(\"R{:d}_region.png\".format(base_hid))\n",
    "\n",
    "gc.collect()"
   ]
  },
  {
   "cell_type": "code",
   "execution_count": 21,
   "metadata": {
    "collapsed": false
   },
   "outputs": [
    {
     "data": {
      "text/plain": [
       "3345"
      ]
     },
     "execution_count": 21,
     "metadata": {},
     "output_type": "execute_result"
    }
   ],
   "source": [
    "# read block pos ics\n",
    "pos0 = snap0.read_block(\"pos\", \"halo\") / 1000.0\n",
    "\n",
    "index = pos0.index\n",
    "sorter = index.argsort()\n",
    "\n",
    "# filter ics to region\n",
    "#pos0 = pos0.iloc[ids]\n",
    "pos0 = filter_bloc_by_ids(pos0, ids, sorter)\n",
    "\n",
    "gc.collect()"
   ]
  },
  {
   "cell_type": "code",
   "execution_count": 22,
   "metadata": {
    "collapsed": false
   },
   "outputs": [
    {
     "ename": "KeyError",
     "evalue": "0",
     "output_type": "error",
     "traceback": [
      "\u001b[1;31m---------------------------------------------------------------------------\u001b[0m",
      "\u001b[1;31mKeyError\u001b[0m                                  Traceback (most recent call last)",
      "\u001b[1;32m<ipython-input-22-efeacb99f737>\u001b[0m in \u001b[0;36m<module>\u001b[1;34m()\u001b[0m\n\u001b[1;32m----> 1\u001b[1;33m \u001b[0mcenter\u001b[0m\u001b[1;33m,\u001b[0m \u001b[0mextent\u001b[0m \u001b[1;33m=\u001b[0m \u001b[0mcompute_bounding_box\u001b[0m\u001b[1;33m(\u001b[0m\u001b[0mpos0\u001b[0m\u001b[1;33m,\u001b[0m \u001b[0mbox_lengh\u001b[0m\u001b[1;33m=\u001b[0m\u001b[1;36m50.0\u001b[0m\u001b[1;33m)\u001b[0m\u001b[1;33m\u001b[0m\u001b[0m\n\u001b[0m",
      "\u001b[1;32m/home/lbignone/Results/wmmw/analysis/pygadget_utils.py\u001b[0m in \u001b[0;36mcompute_bounding_box\u001b[1;34m(pos, box_lengh)\u001b[0m\n\u001b[0;32m     89\u001b[0m \u001b[1;32mdef\u001b[0m \u001b[0mcompute_bounding_box\u001b[0m\u001b[1;33m(\u001b[0m\u001b[0mpos\u001b[0m\u001b[1;33m,\u001b[0m \u001b[0mbox_lengh\u001b[0m\u001b[1;33m)\u001b[0m\u001b[1;33m:\u001b[0m\u001b[1;33m\u001b[0m\u001b[0m\n\u001b[0;32m     90\u001b[0m \u001b[1;33m\u001b[0m\u001b[0m\n\u001b[1;32m---> 91\u001b[1;33m     \u001b[0mx0\u001b[0m \u001b[1;33m=\u001b[0m \u001b[0mpos\u001b[0m\u001b[1;33m.\u001b[0m\u001b[0mx\u001b[0m\u001b[1;33m[\u001b[0m\u001b[1;36m0\u001b[0m\u001b[1;33m]\u001b[0m\u001b[1;33m\u001b[0m\u001b[0m\n\u001b[0m\u001b[0;32m     92\u001b[0m     \u001b[0my0\u001b[0m \u001b[1;33m=\u001b[0m \u001b[0mpos\u001b[0m\u001b[1;33m.\u001b[0m\u001b[0my\u001b[0m\u001b[1;33m[\u001b[0m\u001b[1;36m0\u001b[0m\u001b[1;33m]\u001b[0m\u001b[1;33m\u001b[0m\u001b[0m\n\u001b[0;32m     93\u001b[0m     \u001b[0mz0\u001b[0m \u001b[1;33m=\u001b[0m \u001b[0mpos\u001b[0m\u001b[1;33m.\u001b[0m\u001b[0mz\u001b[0m\u001b[1;33m[\u001b[0m\u001b[1;36m0\u001b[0m\u001b[1;33m]\u001b[0m\u001b[1;33m\u001b[0m\u001b[0m\n",
      "\u001b[1;32m/usr/local/lib/python2.7/dist-packages/pandas/core/series.pyc\u001b[0m in \u001b[0;36m__getitem__\u001b[1;34m(self, key)\u001b[0m\n\u001b[0;32m    517\u001b[0m     \u001b[1;32mdef\u001b[0m \u001b[0m__getitem__\u001b[0m\u001b[1;33m(\u001b[0m\u001b[0mself\u001b[0m\u001b[1;33m,\u001b[0m \u001b[0mkey\u001b[0m\u001b[1;33m)\u001b[0m\u001b[1;33m:\u001b[0m\u001b[1;33m\u001b[0m\u001b[0m\n\u001b[0;32m    518\u001b[0m         \u001b[1;32mtry\u001b[0m\u001b[1;33m:\u001b[0m\u001b[1;33m\u001b[0m\u001b[0m\n\u001b[1;32m--> 519\u001b[1;33m             \u001b[0mresult\u001b[0m \u001b[1;33m=\u001b[0m \u001b[0mself\u001b[0m\u001b[1;33m.\u001b[0m\u001b[0mindex\u001b[0m\u001b[1;33m.\u001b[0m\u001b[0mget_value\u001b[0m\u001b[1;33m(\u001b[0m\u001b[0mself\u001b[0m\u001b[1;33m,\u001b[0m \u001b[0mkey\u001b[0m\u001b[1;33m)\u001b[0m\u001b[1;33m\u001b[0m\u001b[0m\n\u001b[0m\u001b[0;32m    520\u001b[0m \u001b[1;33m\u001b[0m\u001b[0m\n\u001b[0;32m    521\u001b[0m             \u001b[1;32mif\u001b[0m \u001b[1;32mnot\u001b[0m \u001b[0mnp\u001b[0m\u001b[1;33m.\u001b[0m\u001b[0misscalar\u001b[0m\u001b[1;33m(\u001b[0m\u001b[0mresult\u001b[0m\u001b[1;33m)\u001b[0m\u001b[1;33m:\u001b[0m\u001b[1;33m\u001b[0m\u001b[0m\n",
      "\u001b[1;32m/usr/local/lib/python2.7/dist-packages/pandas/core/index.pyc\u001b[0m in \u001b[0;36mget_value\u001b[1;34m(self, series, key)\u001b[0m\n\u001b[0;32m   1599\u001b[0m \u001b[1;33m\u001b[0m\u001b[0m\n\u001b[0;32m   1600\u001b[0m         \u001b[1;32mtry\u001b[0m\u001b[1;33m:\u001b[0m\u001b[1;33m\u001b[0m\u001b[0m\n\u001b[1;32m-> 1601\u001b[1;33m             \u001b[1;32mreturn\u001b[0m \u001b[0mself\u001b[0m\u001b[1;33m.\u001b[0m\u001b[0m_engine\u001b[0m\u001b[1;33m.\u001b[0m\u001b[0mget_value\u001b[0m\u001b[1;33m(\u001b[0m\u001b[0ms\u001b[0m\u001b[1;33m,\u001b[0m \u001b[0mk\u001b[0m\u001b[1;33m)\u001b[0m\u001b[1;33m\u001b[0m\u001b[0m\n\u001b[0m\u001b[0;32m   1602\u001b[0m         \u001b[1;32mexcept\u001b[0m \u001b[0mKeyError\u001b[0m \u001b[1;32mas\u001b[0m \u001b[0me1\u001b[0m\u001b[1;33m:\u001b[0m\u001b[1;33m\u001b[0m\u001b[0m\n\u001b[0;32m   1603\u001b[0m             \u001b[1;32mif\u001b[0m \u001b[0mlen\u001b[0m\u001b[1;33m(\u001b[0m\u001b[0mself\u001b[0m\u001b[1;33m)\u001b[0m \u001b[1;33m>\u001b[0m \u001b[1;36m0\u001b[0m \u001b[1;32mand\u001b[0m \u001b[0mself\u001b[0m\u001b[1;33m.\u001b[0m\u001b[0minferred_type\u001b[0m \u001b[1;32min\u001b[0m \u001b[1;33m[\u001b[0m\u001b[1;34m'integer'\u001b[0m\u001b[1;33m,\u001b[0m\u001b[1;34m'boolean'\u001b[0m\u001b[1;33m]\u001b[0m\u001b[1;33m:\u001b[0m\u001b[1;33m\u001b[0m\u001b[0m\n",
      "\u001b[1;32mpandas/index.pyx\u001b[0m in \u001b[0;36mpandas.index.IndexEngine.get_value (pandas/index.c:3113)\u001b[1;34m()\u001b[0m\n",
      "\u001b[1;32mpandas/index.pyx\u001b[0m in \u001b[0;36mpandas.index.IndexEngine.get_value (pandas/index.c:2844)\u001b[1;34m()\u001b[0m\n",
      "\u001b[1;32mpandas/index.pyx\u001b[0m in \u001b[0;36mpandas.index.IndexEngine.get_loc (pandas/index.c:3704)\u001b[1;34m()\u001b[0m\n",
      "\u001b[1;32mpandas/hashtable.pyx\u001b[0m in \u001b[0;36mpandas.hashtable.Int64HashTable.get_item (pandas/hashtable.c:7255)\u001b[1;34m()\u001b[0m\n",
      "\u001b[1;32mpandas/hashtable.pyx\u001b[0m in \u001b[0;36mpandas.hashtable.Int64HashTable.get_item (pandas/hashtable.c:7193)\u001b[1;34m()\u001b[0m\n",
      "\u001b[1;31mKeyError\u001b[0m: 0"
     ]
    }
   ],
   "source": [
    "center, extent = compute_bounding_box(pos0, box_lengh=50.0)"
   ]
  },
  {
   "cell_type": "code",
   "execution_count": null,
   "metadata": {
    "collapsed": false
   },
   "outputs": [],
   "source": [
    "center/box_size"
   ]
  },
  {
   "cell_type": "code",
   "execution_count": null,
   "metadata": {
    "collapsed": false
   },
   "outputs": [],
   "source": [
    "extent/box_size"
   ]
  },
  {
   "cell_type": "code",
   "execution_count": 23,
   "metadata": {
    "collapsed": true
   },
   "outputs": [],
   "source": [
    "pos0 = pos0/box_size"
   ]
  },
  {
   "cell_type": "code",
   "execution_count": 24,
   "metadata": {
    "collapsed": false
   },
   "outputs": [],
   "source": [
    "pos0.to_csv(fout, sep=\" \", header=False, index=False)"
   ]
  },
  {
   "cell_type": "code",
   "execution_count": null,
   "metadata": {
    "collapsed": false
   },
   "outputs": [],
   "source": [
    "pos0 = 0\n",
    "gc.collect()"
   ]
  }
 ],
 "metadata": {
  "kernelspec": {
   "display_name": "Python 2",
   "language": "python",
   "name": "python2"
  },
  "language_info": {
   "codemirror_mode": {
    "name": "ipython",
    "version": 2
   },
   "file_extension": ".py",
   "mimetype": "text/x-python",
   "name": "python",
   "nbconvert_exporter": "python",
   "pygments_lexer": "ipython2",
   "version": "2.7.3"
  }
 },
 "nbformat": 4,
 "nbformat_minor": 0
}
